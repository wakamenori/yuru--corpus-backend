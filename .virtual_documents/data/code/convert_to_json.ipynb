import pandas as pd


df = pd.read_csv("../morphemes_processed.csv")
summary = pd.read_csv("../summary_processed.csv")


df = df.dropna(subset=["Id"])


df = df[df.index != 151480]


import numpy as np

def ts(v):
    try:
        return v.split("#")[1]
    except:
        return ""

df["Timestamp"] = np.vectorize(ts)(df["Id"])



# df["Timestamp"] = df["Id"].str.split("#")[1]
for i in range(1, len(summary)+1):
    print(i)
    ep = df[df["Id"].str.startswith(f"{i}#")]
    if (len(ep) > 0):
        ep[["Timestamp", "Token", "Speaker"]].to_json(f"../json/{i}.json", orient='records', force_ascii=False)



ep1 = df[df["Id"].str.startswith("1#")]
ep1[["Id", "Token", "Speaker"]].to_json("../L1.json", orient='records', force_ascii=False)


ep2 = df[df["Id"].str.startswith("2#")]
ep2[["Id", "Token", "Speaker"]].to_json("../L2.json", orient='records', force_ascii=False)


ep1.set_index("Id")



